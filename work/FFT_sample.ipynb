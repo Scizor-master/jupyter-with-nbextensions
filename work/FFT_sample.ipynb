{
 "cells": [
  {
   "cell_type": "markdown",
   "metadata": {},
   "source": [
    "# Sample Notebook"
   ]
  },
  {
   "cell_type": "markdown",
   "metadata": {},
   "source": [
    "## Import modules"
   ]
  },
  {
   "cell_type": "code",
   "execution_count": null,
   "metadata": {},
   "outputs": [],
   "source": [
    "import numpy as np\n",
    "from bokeh.io import output_notebook, show\n",
    "from bokeh.layouts import column\n",
    "from bokeh.plotting import figure"
   ]
  },
  {
   "cell_type": "markdown",
   "metadata": {},
   "source": [
    "## Set parameters"
   ]
  },
  {
   "cell_type": "code",
   "execution_count": null,
   "metadata": {},
   "outputs": [],
   "source": [
    "N = 1024\n",
    "dt = 1* 10** -6\n",
    "f1, f2, f3, f4, f5 = 102342, 164353, 234353, 382345, 490000\n",
    "t = np.arange(0, N* dt, dt)\n",
    "freq = np.linspace(0, 1./ dt, N)* 10** -6"
   ]
  },
  {
   "cell_type": "markdown",
   "metadata": {},
   "source": [
    "## Oscillate signal and FFT"
   ]
  },
  {
   "cell_type": "code",
   "execution_count": null,
   "metadata": {
    "code_folding": []
   },
   "outputs": [],
   "source": [
    "f = 5.* (\n",
    "    np.sin(2* np.pi* f1* t) + np.sin(2* np.pi* f2* t) + np.sin(2* np.pi* f3* t) \\\n",
    "    + np.sin(2* np.pi* f4* t) + np.sin(2* np.pi* f5* t)\n",
    ") + 10.* np.random.random(N)\n",
    "f = f/ np.max(f)\n",
    "\n",
    "F = np.fft.fft(f)\n",
    "amp = np.abs(F)\n",
    "amp = amp/ np.max(amp)"
   ]
  },
  {
   "cell_type": "markdown",
   "metadata": {},
   "source": [
    "## Plots data"
   ]
  },
  {
   "cell_type": "code",
   "execution_count": null,
   "metadata": {
    "scrolled": false
   },
   "outputs": [],
   "source": [
    "output_notebook()\n",
    "\n",
    "p1 = figure(plot_width=800, plot_height=450, title='Raw signal', x_axis_label='Time[s]', y_axis_label='Normalized Power')\n",
    "p1.line(t, f, legend='f(t)', line_color='green')\n",
    "p1.title.text_font_size = '24pt'\n",
    "p1.xaxis.axis_label_text_font_size = '16pt'\n",
    "p1.xaxis.axis_label_text_font_style = 'bold'\n",
    "p1.yaxis.axis_label_text_font_size = '16pt'\n",
    "p1.yaxis.axis_label_text_font_style = 'bold'\n",
    "\n",
    "p2 = figure(plot_width=800, plot_height=450, title='Power spectrum', x_axis_label='Frequency[MHz]', y_axis_label='Normalized Power')\n",
    "p2.line(freq[:N// 2], amp[:N// 2], legend='|F(ν)|', line_color='blue')\n",
    "p2.title.text_font_size = '24pt'\n",
    "p2.xaxis.axis_label_text_font_size = '16pt'\n",
    "p2.xaxis.axis_label_text_font_style = 'bold'\n",
    "p2.yaxis.axis_label_text_font_size = '16pt'\n",
    "p2.yaxis.axis_label_text_font_style = 'bold'\n",
    "\n",
    "show(column([p1, p2]))"
   ]
  },
  {
   "cell_type": "code",
   "execution_count": null,
   "metadata": {},
   "outputs": [],
   "source": []
  }
 ],
 "metadata": {
  "kernelspec": {
   "display_name": "Python 3",
   "language": "python",
   "name": "python3"
  },
  "language_info": {
   "codemirror_mode": {
    "name": "ipython",
    "version": 3
   },
   "file_extension": ".py",
   "mimetype": "text/x-python",
   "name": "python",
   "nbconvert_exporter": "python",
   "pygments_lexer": "ipython3",
   "version": "3.6.5"
  },
  "latex_envs": {
   "LaTeX_envs_menu_present": true,
   "autoclose": false,
   "autocomplete": true,
   "bibliofile": "biblio.bib",
   "cite_by": "apalike",
   "current_citInitial": 1,
   "eqLabelWithNumbers": true,
   "eqNumInitial": 1,
   "hotkeys": {
    "equation": "Ctrl-E",
    "itemize": "Ctrl-I"
   },
   "labels_anchors": false,
   "latex_user_defs": false,
   "report_style_numbering": false,
   "user_envs_cfg": false
  },
  "toc": {
   "base_numbering": 1,
   "nav_menu": {},
   "number_sections": true,
   "sideBar": true,
   "skip_h1_title": false,
   "title_cell": "Table of Contents",
   "title_sidebar": "Contents",
   "toc_cell": false,
   "toc_position": {},
   "toc_section_display": true,
   "toc_window_display": false
  }
 },
 "nbformat": 4,
 "nbformat_minor": 2
}
