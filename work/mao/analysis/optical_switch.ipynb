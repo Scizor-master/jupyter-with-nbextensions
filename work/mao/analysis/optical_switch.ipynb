{
 "cells": [
  {
   "cell_type": "markdown",
   "metadata": {},
   "source": [
    "# Analysis \"1x8 MEMS Optical Switch\""
   ]
  },
  {
   "cell_type": "markdown",
   "metadata": {},
   "source": [
    "## Import modules"
   ]
  },
  {
   "cell_type": "code",
   "execution_count": null,
   "metadata": {},
   "outputs": [],
   "source": [
    "# Standard modules\n",
    "from pathlib import Path\n",
    "\n",
    "# Dependent packages\n",
    "import numpy as np\n",
    "import pandas as pd\n",
    "import numba\n",
    "from bokeh.io import output_notebook, output_file, show, save\n",
    "from bokeh.layouts import column\n",
    "from bokeh.plotting import figure"
   ]
  },
  {
   "cell_type": "markdown",
   "metadata": {},
   "source": [
    "## Get data from CSV (THS-3024 output)"
   ]
  },
  {
   "cell_type": "code",
   "execution_count": null,
   "metadata": {},
   "outputs": [],
   "source": [
    "file_name = '~/work/F0000CH1.CSV'\n",
    "css_path = Path(file_name).expanduser()\n",
    "\n",
    "data = pd.read_csv(css_path, header=None)\n",
    "time, volt = data[3].values, data[4].values\n",
    "del(data)"
   ]
  },
  {
   "cell_type": "markdown",
   "metadata": {},
   "source": [
    "## FFT the time series data"
   ]
  },
  {
   "cell_type": "code",
   "execution_count": null,
   "metadata": {},
   "outputs": [],
   "source": [
    "eff_volt = volt[178:2428]\n",
    "\n",
    "N = len(eff_volt)\n",
    "dt = time[1] - time[0]\n",
    "eff_time = np.arange(0, N*dt, dt)\n",
    "freq = np.linspace(0, 1.0/dt, N)\n",
    "freq_n = freq[:N//2]\n",
    "\n",
    "f = np.fft.fft(eff_volt)\n",
    "f = f[:len(f)//2]\n",
    "amp = np.abs(f)\n",
    "ph = np.rad2deg(np.arctan2(f.imag, f.real))"
   ]
  },
  {
   "cell_type": "markdown",
   "metadata": {},
   "source": [
    "## Plot results"
   ]
  },
  {
   "cell_type": "code",
   "execution_count": null,
   "metadata": {},
   "outputs": [],
   "source": [
    "answer = input(\n",
    "    'Chose 1 or 2!\\n'\n",
    "    '    1. Output notebook\\n'\n",
    "    '    2. Save HTML\\n'\n",
    ")\n",
    "if answer is '1':\n",
    "    output_notebook()\n",
    "elif answer is '2':\n",
    "    file_name = '1806234355_nosignal.html'\n",
    "    save_dir = '~/work/mao/plot/'\n",
    "    file_path = Path(save_dir + file_name).expanduser()\n",
    "    output_file(filename=file_path)\n",
    "else:\n",
    "    raise ValueError('Select 1 or 2.')"
   ]
  },
  {
   "cell_type": "markdown",
   "metadata": {},
   "source": [
    "### Raw data"
   ]
  },
  {
   "cell_type": "code",
   "execution_count": null,
   "metadata": {},
   "outputs": [],
   "source": [
    "p_raw = figure(title='Raw data', plot_width=800, plot_height=450)\n",
    "p_raw.line(eff_time, eff_volt, line_color='green', line_width=0.5)\n",
    "\n",
    "p_raw.title.text_font_size = '24pt'\n",
    "\n",
    "p_raw.xaxis.axis_label = 'Time[s]'\n",
    "p_raw.xaxis.axis_label_text_font_size = '16pt'\n",
    "p_raw.xaxis.axis_label_text_font_style = 'bold'\n",
    "\n",
    "p_raw.yaxis.axis_label = 'Amplitude[V]'\n",
    "p_raw.yaxis.axis_label_text_font_size = '16pt'\n",
    "p_raw.yaxis.axis_label_text_font_style = 'bold'"
   ]
  },
  {
   "cell_type": "markdown",
   "metadata": {},
   "source": [
    "### FFT (Amplitude)"
   ]
  },
  {
   "cell_type": "code",
   "execution_count": null,
   "metadata": {},
   "outputs": [],
   "source": [
    "# p_amp = figure(title='FFT (Amplitude)', plot_width=800, plot_height=450)\n",
    "p_amp = figure(title='FFT (Amplitude)', y_axis_type='log', plot_width=800, plot_height=450)\n",
    "p_amp.line(freq_n, amp, line_color='orange')\n",
    "\n",
    "p_amp.title.text_font_size = '24pt'\n",
    "\n",
    "p_amp.xaxis.axis_label = 'Frequency[Hz]'\n",
    "p_amp.xaxis.axis_label_text_font_size = '16pt'\n",
    "p_amp.xaxis.axis_label_text_font_style = 'bold'\n",
    "p_amp.yaxis.axis_label = 'Amplitude[V]'\n",
    "p_amp.yaxis.axis_label_text_font_size = '16pt'\n",
    "p_amp.yaxis.axis_label_text_font_style = 'bold'"
   ]
  },
  {
   "cell_type": "markdown",
   "metadata": {},
   "source": [
    "### FFT (Phase)"
   ]
  },
  {
   "cell_type": "code",
   "execution_count": null,
   "metadata": {},
   "outputs": [],
   "source": [
    "p_ph = figure(title='FFT (Phase)', plot_width=800, plot_height=450)\n",
    "p_ph.circle(freq_n, ph, size=2, line_color='blue')\n",
    "\n",
    "p_ph.title.text_font_size = '24pt'\n",
    "\n",
    "p_ph.xaxis.axis_label = 'Frequency[Hz]'\n",
    "p_ph.xaxis.axis_label_text_font_size = '16pt'\n",
    "p_ph.xaxis.axis_label_text_font_style = 'bold'\n",
    "\n",
    "p_ph.yaxis.axis_label = 'Phase[deg]'\n",
    "p_ph.yaxis.axis_label_text_font_size = '16pt'\n",
    "p_ph.yaxis.axis_label_text_font_style = 'bold'"
   ]
  },
  {
   "cell_type": "markdown",
   "metadata": {},
   "source": [
    "### Show plots"
   ]
  },
  {
   "cell_type": "code",
   "execution_count": null,
   "metadata": {},
   "outputs": [],
   "source": [
    "if answer is '1':\n",
    "    show(column([p_raw, p_amp, p_ph]))\n",
    "else:\n",
    "    save(obj=column([p_raw, p_amp, p_ph]))"
   ]
  },
  {
   "cell_type": "markdown",
   "metadata": {},
   "source": [
    "## TAV"
   ]
  },
  {
   "cell_type": "markdown",
   "metadata": {},
   "source": [
    "## Define functions"
   ]
  },
  {
   "cell_type": "markdown",
   "metadata": {},
   "source": [
    "### Define functions"
   ]
  },
  {
   "cell_type": "code",
   "execution_count": null,
   "metadata": {},
   "outputs": [],
   "source": [
    "@numba.jit(nopython=True)\n",
    "def calc_tav(data, tau=1.):\n",
    "    num_data = len(data)\n",
    "    num_tav = num_data // 2 - 1\n",
    "    tav = []\n",
    "    for j in range(1, num_tav):\n",
    "        sigma = 0\n",
    "        for i in range(1, num_data-2*j):\n",
    "            sigma += np.square(data[i+2*j] - 2 * data[i+j] + data[i])\n",
    "        tav.append(1 / (2 * np.square(tau*j * (num_data-2*j) * sigma)))\n",
    "        \n",
    "    return tav"
   ]
  },
  {
   "cell_type": "markdown",
   "metadata": {},
   "source": [
    "### Calculage TAV"
   ]
  },
  {
   "cell_type": "code",
   "execution_count": null,
   "metadata": {},
   "outputs": [],
   "source": [
    "tav_amp = calc_tav(amp, dt)\n",
    "tav_ph = calc_tav(ph, dt)\n",
    "\n",
    "time_lag = np.arange(0, len(tav_amp)* dt, dt)"
   ]
  },
  {
   "cell_type": "markdown",
   "metadata": {},
   "source": [
    "### Plot TAV"
   ]
  },
  {
   "cell_type": "code",
   "execution_count": null,
   "metadata": {},
   "outputs": [],
   "source": [
    "output_notebook()"
   ]
  },
  {
   "cell_type": "markdown",
   "metadata": {},
   "source": [
    "### Show plots"
   ]
  },
  {
   "cell_type": "code",
   "execution_count": null,
   "metadata": {},
   "outputs": [],
   "source": [
    "p_tav_amp = figure(title='TAV (Amplitude)', x_axis_type='log', y_axis_type='log', plot_width=800, plot_height=450)\n",
    "p_tav_amp.line(time_lag, tav_amp, line_color='green')\n",
    "\n",
    "p_tav_amp.title.text_font_size = '24pt'\n",
    "\n",
    "p_tav_amp.xaxis.axis_label = 'Time lag[s]'\n",
    "p_tav_amp.xaxis.axis_label_text_font_size = '16pt'\n",
    "p_tav_amp.xaxis.axis_label_text_font_style = 'bold'\n",
    "\n",
    "p_tav_amp.yaxis.axis_label = 'TAV'\n",
    "p_tav_amp.yaxis.axis_label_text_font_size = '16pt'\n",
    "p_tav_amp.yaxis.axis_label_text_font_style = 'bold'"
   ]
  },
  {
   "cell_type": "code",
   "execution_count": null,
   "metadata": {},
   "outputs": [],
   "source": [
    "p_tav_ph = figure(title='TAV (Phaes)', x_axis_type='log', y_axis_type='log', plot_width=800, plot_height=450)\n",
    "p_tav_ph.line(time_lag, tav_amp, line_color='blue')\n",
    "\n",
    "p_tav_ph.title.text_font_size = '24pt'\n",
    "\n",
    "p_tav_ph.xaxis.axis_label = 'Time lag[s]'\n",
    "p_tav_ph.xaxis.axis_label_text_font_size = '16pt'\n",
    "p_tav_ph.xaxis.axis_label_text_font_style = 'bold'\n",
    "\n",
    "p_tav_ph.yaxis.axis_label = 'TAV'\n",
    "p_tav_ph.yaxis.axis_label_text_font_size = '16pt'\n",
    "p_tav_ph.yaxis.axis_label_text_font_style = 'bold'"
   ]
  },
  {
   "cell_type": "code",
   "execution_count": null,
   "metadata": {},
   "outputs": [],
   "source": [
    "show(column([p_tav_amp, p_tav_ph]))"
   ]
  },
  {
   "cell_type": "code",
   "execution_count": null,
   "metadata": {},
   "outputs": [],
   "source": []
  }
 ],
 "metadata": {
  "kernelspec": {
   "display_name": "Python 3",
   "language": "python",
   "name": "python3"
  },
  "language_info": {
   "codemirror_mode": {
    "name": "ipython",
    "version": 3
   },
   "file_extension": ".py",
   "mimetype": "text/x-python",
   "name": "python",
   "nbconvert_exporter": "python",
   "pygments_lexer": "ipython3",
   "version": "3.6.5"
  },
  "toc": {
   "base_numbering": 1,
   "nav_menu": {
    "height": "12px",
    "width": "160px"
   },
   "number_sections": true,
   "sideBar": true,
   "skip_h1_title": false,
   "title_cell": "Table of Contents",
   "title_sidebar": "Contents",
   "toc_cell": false,
   "toc_position": {},
   "toc_section_display": true,
   "toc_window_display": true
  }
 },
 "nbformat": 4,
 "nbformat_minor": 2
}
